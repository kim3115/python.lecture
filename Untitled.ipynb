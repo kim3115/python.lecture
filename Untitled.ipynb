{
 "cells": [
  {
   "cell_type": "code",
   "execution_count": 2,
   "id": "857e706d",
   "metadata": {
    "ExecuteTime": {
     "end_time": "2021-05-24T06:16:06.472315Z",
     "start_time": "2021-05-24T06:16:06.459324Z"
    }
   },
   "outputs": [
    {
     "name": "stdout",
     "output_type": "stream",
     "text": [
      "Hello World\n"
     ]
    }
   ],
   "source": [
    "print(\"Hello World\")"
   ]
  },
  {
   "cell_type": "code",
   "execution_count": 3,
   "id": "4d6452c1",
   "metadata": {
    "ExecuteTime": {
     "end_time": "2021-05-24T07:58:51.715551Z",
     "start_time": "2021-05-24T07:58:51.696568Z"
    }
   },
   "outputs": [
    {
     "name": "stdout",
     "output_type": "stream",
     "text": [
      "이름:  홍길동\n"
     ]
    }
   ],
   "source": [
    "name = \"홍길동\"\n",
    "print(\"이름: \" , name)"
   ]
  },
  {
   "cell_type": "code",
   "execution_count": 4,
   "id": "7cd095c3",
   "metadata": {
    "ExecuteTime": {
     "end_time": "2021-05-24T08:00:10.101786Z",
     "start_time": "2021-05-24T08:00:10.090793Z"
    }
   },
   "outputs": [
    {
     "name": "stdout",
     "output_type": "stream",
     "text": [
      "사각형의 면적:  50\n"
     ]
    }
   ],
   "source": [
    "width = 10\n",
    "height = 5\n",
    "rectangle_area = width*height\n",
    "print(\"사각형의 면적: \", rectangle_area)"
   ]
  },
  {
   "cell_type": "code",
   "execution_count": 5,
   "id": "20587c89",
   "metadata": {
    "ExecuteTime": {
     "end_time": "2021-05-24T08:10:46.362842Z",
     "start_time": "2021-05-24T08:10:46.343853Z"
    }
   },
   "outputs": [
    {
     "ename": "AttributeError",
     "evalue": "module 'keyword' has no attribute 'kwilist'",
     "output_type": "error",
     "traceback": [
      "\u001b[1;31m---------------------------------------------------------------------------\u001b[0m",
      "\u001b[1;31mAttributeError\u001b[0m                            Traceback (most recent call last)",
      "\u001b[1;32m<ipython-input-5-1c9472dd2f7e>\u001b[0m in \u001b[0;36m<module>\u001b[1;34m\u001b[0m\n\u001b[0;32m      1\u001b[0m \u001b[1;32mimport\u001b[0m \u001b[0mkeyword\u001b[0m\u001b[1;33m\u001b[0m\u001b[1;33m\u001b[0m\u001b[0m\n\u001b[1;32m----> 2\u001b[1;33m \u001b[0mprint\u001b[0m\u001b[1;33m(\u001b[0m\u001b[0mkeyword\u001b[0m\u001b[1;33m.\u001b[0m\u001b[0mkwilist\u001b[0m\u001b[1;33m)\u001b[0m\u001b[1;33m\u001b[0m\u001b[1;33m\u001b[0m\u001b[0m\n\u001b[0m",
      "\u001b[1;31mAttributeError\u001b[0m: module 'keyword' has no attribute 'kwilist'"
     ]
    }
   ],
   "source": [
    "import keyword\n",
    "print(keyword.kwilist)"
   ]
  },
  {
   "cell_type": "code",
   "execution_count": 6,
   "id": "1e290c03",
   "metadata": {
    "ExecuteTime": {
     "end_time": "2021-05-24T08:13:19.606750Z",
     "start_time": "2021-05-24T08:13:19.593771Z"
    }
   },
   "outputs": [
    {
     "name": "stdout",
     "output_type": "stream",
     "text": [
      "안녕! 나는 홍길동 이야. 나는 나이가 27 살이야.\n"
     ]
    }
   ],
   "source": [
    "name = \"홍길동\"\n",
    "age = 27\n",
    "print(\"안녕! 나는\", name , \"이야. 나는 나이가\",age,\"살이야.\")"
   ]
  },
  {
   "cell_type": "code",
   "execution_count": 8,
   "id": "d5e4ea1d",
   "metadata": {
    "ExecuteTime": {
     "end_time": "2021-05-24T08:28:18.019010Z",
     "start_time": "2021-05-24T08:28:18.006997Z"
    }
   },
   "outputs": [
    {
     "data": {
      "text/plain": [
       "3"
      ]
     },
     "execution_count": 8,
     "metadata": {},
     "output_type": "execute_result"
    }
   ],
   "source": [
    "4-1"
   ]
  },
  {
   "cell_type": "code",
   "execution_count": 14,
   "id": "e2e41de4",
   "metadata": {
    "ExecuteTime": {
     "end_time": "2021-05-24T08:29:30.310990Z",
     "start_time": "2021-05-24T08:29:30.303998Z"
    }
   },
   "outputs": [
    {
     "data": {
      "text/plain": [
       "3"
      ]
     },
     "execution_count": 14,
     "metadata": {},
     "output_type": "execute_result"
    }
   ],
   "source": [
    "30//9"
   ]
  },
  {
   "cell_type": "code",
   "execution_count": 15,
   "id": "57464d3a",
   "metadata": {
    "ExecuteTime": {
     "end_time": "2021-05-24T08:34:15.710905Z",
     "start_time": "2021-05-24T08:34:15.698912Z"
    }
   },
   "outputs": [
    {
     "data": {
      "text/plain": [
       "8.0"
      ]
     },
     "execution_count": 15,
     "metadata": {},
     "output_type": "execute_result"
    }
   ],
   "source": [
    "5+3.0"
   ]
  },
  {
   "cell_type": "code",
   "execution_count": 16,
   "id": "dc9f2ee3",
   "metadata": {
    "ExecuteTime": {
     "end_time": "2021-05-24T08:34:36.225940Z",
     "start_time": "2021-05-24T08:34:36.209953Z"
    }
   },
   "outputs": [
    {
     "data": {
      "text/plain": [
       "6"
      ]
     },
     "execution_count": 16,
     "metadata": {},
     "output_type": "execute_result"
    }
   ],
   "source": [
    "3+3"
   ]
  },
  {
   "cell_type": "code",
   "execution_count": 17,
   "id": "e250e318",
   "metadata": {
    "ExecuteTime": {
     "end_time": "2021-05-24T08:34:39.948103Z",
     "start_time": "2021-05-24T08:34:39.938130Z"
    }
   },
   "outputs": [
    {
     "data": {
      "text/plain": [
       "6"
      ]
     },
     "execution_count": 17,
     "metadata": {},
     "output_type": "execute_result"
    }
   ],
   "source": [
    "3+3"
   ]
  },
  {
   "cell_type": "code",
   "execution_count": 18,
   "id": "5e33afac",
   "metadata": {
    "ExecuteTime": {
     "end_time": "2021-05-24T08:34:51.724482Z",
     "start_time": "2021-05-24T08:34:51.709492Z"
    }
   },
   "outputs": [
    {
     "data": {
      "text/plain": [
       "2"
      ]
     },
     "execution_count": 18,
     "metadata": {},
     "output_type": "execute_result"
    }
   ],
   "source": [
    "1+1"
   ]
  },
  {
   "cell_type": "code",
   "execution_count": null,
   "id": "206fb200",
   "metadata": {},
   "outputs": [],
   "source": []
  }
 ],
 "metadata": {
  "kernelspec": {
   "display_name": "Python 3",
   "language": "python",
   "name": "python3"
  },
  "language_info": {
   "codemirror_mode": {
    "name": "ipython",
    "version": 3
   },
   "file_extension": ".py",
   "mimetype": "text/x-python",
   "name": "python",
   "nbconvert_exporter": "python",
   "pygments_lexer": "ipython3",
   "version": "3.7.9"
  },
  "toc": {
   "base_numbering": 1,
   "nav_menu": {},
   "number_sections": true,
   "sideBar": true,
   "skip_h1_title": false,
   "title_cell": "Table of Contents",
   "title_sidebar": "Contents",
   "toc_cell": false,
   "toc_position": {},
   "toc_section_display": true,
   "toc_window_display": true
  },
  "varInspector": {
   "cols": {
    "lenName": 16,
    "lenType": 16,
    "lenVar": 40
   },
   "kernels_config": {
    "python": {
     "delete_cmd_postfix": "",
     "delete_cmd_prefix": "del ",
     "library": "var_list.py",
     "varRefreshCmd": "print(var_dic_list())"
    },
    "r": {
     "delete_cmd_postfix": ") ",
     "delete_cmd_prefix": "rm(",
     "library": "var_list.r",
     "varRefreshCmd": "cat(var_dic_list()) "
    }
   },
   "types_to_exclude": [
    "module",
    "function",
    "builtin_function_or_method",
    "instance",
    "_Feature"
   ],
   "window_display": false
  }
 },
 "nbformat": 4,
 "nbformat_minor": 5
}
